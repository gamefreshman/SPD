{
 "cells": [
  {
   "cell_type": "code",
   "execution_count": 1,
   "id": "748963e6",
   "metadata": {},
   "outputs": [],
   "source": [
    "# 验证主包\n",
    "import shepherd\n",
    "\n",
    "# 验证评分包\n",
    "import shepherd_score"
   ]
  }
 ],
 "metadata": {
  "kernelspec": {
   "display_name": ".venv",
   "language": "python",
   "name": "python3"
  },
  "language_info": {
   "codemirror_mode": {
    "name": "ipython",
    "version": 3
   },
   "file_extension": ".py",
   "mimetype": "text/x-python",
   "name": "python",
   "nbconvert_exporter": "python",
   "pygments_lexer": "ipython3",
   "version": "3.9.23"
  }
 },
 "nbformat": 4,
 "nbformat_minor": 5
}
